{
 "cells": [
  {
   "cell_type": "code",
   "execution_count": 1,
   "id": "9761b480-d246-4a3f-84cb-4da2e1c43f2a",
   "metadata": {},
   "outputs": [],
   "source": [
    "from datasets import load_dataset\n",
    "import tqdm\n",
    "dataset = load_dataset(\"dali-does/clevr-math\")"
   ]
  },
  {
   "cell_type": "code",
   "execution_count": null,
   "id": "7f36845e-bec7-4543-be2c-b74b1b5826e5",
   "metadata": {},
   "outputs": [],
   "source": [
    "# PROMPT = \"\"\"Your task is to answer the question below. Give step by step reasoning before you answer, and when you're ready to answer.\n",
    "# Your reasoning respone must start with the <reasoning> tag, followed by the reasoning process enclosed within </reasoning>. Finally, the answer must be placed within <answer></answer>.\n",
    "# Question: \"\"\"\n",
    "\n",
    "PROMPT = \"\"\"Your reasoning respone must start with the <reasoning> tag, followed by the reasoning process enclosed within </reasoning>. Finally, the answer must be placed within <answer></answer>.\n",
    "Question: \"\"\"\n",
    "\n",
    "# PROMPT = \"\"\"\"Bạn phải suy luận từng bước bằng tiếng Việt trước khi đưa ra câu trả lời cuối cùng.\n",
    "# Phản hồi của bạn phải bắt đầu với thẻ <reasoning>, sau đó là quá trình lập luận được bao bọc trong </reasoning>. Cuối cùng, câu trả lời phải được đặt trong thẻ <answer></answer>.\n",
    "# Câu hỏi:\n",
    "# \"\"\"\n",
    "\n",
    "# PROMPT = \"\"\"Your task is to answer the question below. Give step by step reasoning before you answer, and when you're ready to answer, please use the format \"Final answer: ..\" Question:\"\"\""
   ]
  },
  {
   "cell_type": "code",
   "execution_count": null,
   "id": "bf4e81e6-39d7-449f-b25b-2efacc0485d3",
   "metadata": {},
   "outputs": [],
   "source": [
    "dataset[\"train\"] = dataset[\"train\"].shuffle(seed=100)"
   ]
  },
  {
   "cell_type": "code",
   "execution_count": null,
   "id": "c2482de9-f0c8-4326-9b11-29117641a19f",
   "metadata": {},
   "outputs": [],
   "source": [
    "train_list = []\n",
    "dict_ = {}\n",
    "for i, row in enumerate(tqdm.tqdm(dataset[\"train\"])):\n",
    "    if row['id'] not in dict_:\n",
    "        row['image'].save(\"clevr_cogen_a_train_30k/images/\"+row['id']) #.resize((448,448))\n",
    "        train_list.append({\n",
    "              \"id\": i,\n",
    "              \"image\": \"clevr_cogen_a_train_30k/images/\"+row['id'],\n",
    "              \"conversations\": [\n",
    "                    {\n",
    "                        'from': 'human', \n",
    "                        'value': PROMPT + row[\"question\"]    #+ translate_en2vi([row[\"question\"]])[0]\n",
    "                    }, \n",
    "                    {\n",
    "                        'from': 'gpt', \n",
    "                        'value': \"<answer>\"+str(row[\"label\"])+\"</answer>\"\n",
    "                    }\n",
    "              ]\n",
    "            })\n",
    "        dict_[row['id']] = 0\n",
    "    if len(train_list) >= 500:\n",
    "        break"
   ]
  },
  {
   "cell_type": "code",
   "execution_count": null,
   "id": "1ef38c72-5df5-490b-97d8-408ac76ae772",
   "metadata": {},
   "outputs": [],
   "source": [
    "import json\n",
    "with open(\"clevr_cogen_a_train_30k/clevr_cogen_a_train.jsonl\", \"w\") as outfile:\n",
    "    for row in train_list:\n",
    "        json.dump(row, outfile, ensure_ascii=False)\n",
    "        outfile.write('\\n')"
   ]
  },
  {
   "cell_type": "code",
   "execution_count": null,
   "id": "beff31ff-6682-4d82-b21d-88aa3f3f5096",
   "metadata": {},
   "outputs": [],
   "source": []
  },
  {
   "cell_type": "code",
   "execution_count": null,
   "id": "51da97ce-a43d-43e0-8c5b-05bf8bc62280",
   "metadata": {},
   "outputs": [],
   "source": []
  },
  {
   "cell_type": "code",
   "execution_count": null,
   "id": "2984e280-87fa-43c1-9097-614d49dd6dfd",
   "metadata": {},
   "outputs": [],
   "source": []
  },
  {
   "cell_type": "code",
   "execution_count": null,
   "id": "cc42edf8-239c-4ff1-a841-c8768f652caa",
   "metadata": {},
   "outputs": [],
   "source": []
  },
  {
   "cell_type": "code",
   "execution_count": null,
   "id": "9d9c75d1-1956-43a9-81c9-ac99a6e750f0",
   "metadata": {},
   "outputs": [],
   "source": []
  },
  {
   "cell_type": "code",
   "execution_count": null,
   "id": "08c32af4-dd09-4a1c-8290-c23b9b5d22e6",
   "metadata": {},
   "outputs": [],
   "source": []
  }
 ],
 "metadata": {
  "kernelspec": {
   "display_name": "Python 3 (ipykernel)",
   "language": "python",
   "name": "python3"
  },
  "language_info": {
   "codemirror_mode": {
    "name": "ipython",
    "version": 3
   },
   "file_extension": ".py",
   "mimetype": "text/x-python",
   "name": "python",
   "nbconvert_exporter": "python",
   "pygments_lexer": "ipython3",
   "version": "3.9.21"
  }
 },
 "nbformat": 4,
 "nbformat_minor": 5
}
